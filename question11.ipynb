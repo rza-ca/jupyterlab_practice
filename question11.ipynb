{
 "cells": [
  {
   "cell_type": "markdown",
   "id": "143b4336-00e8-42fe-be1f-33b50d1e9b07",
   "metadata": {},
   "source": [
    "# Rebecca Zarins\n",
    "### Notebook for assignment 7"
   ]
  },
  {
   "cell_type": "code",
   "execution_count": 9,
   "id": "392cdea0-0f74-4987-9e13-cb364e6a2125",
   "metadata": {},
   "outputs": [
    {
     "name": "stdout",
     "output_type": "stream",
     "text": [
      "5\n"
     ]
    }
   ],
   "source": [
    "from statistics import mean\n",
    "\n",
    "def compute_mean(avg_list):\n",
    "    this_mean = mean(avg_list)\n",
    "    print(this_mean)\n",
    "\n",
    "compute_mean([2, 4, 6, 8])"
   ]
  },
  {
   "cell_type": "markdown",
   "id": "e6b9ab82-168e-4581-80f1-918f8dfebe00",
   "metadata": {},
   "source": [
    "The function above takes the mean of a list of numbers and prints the value. The mean is calculated per the following: $\\bar{x}= \\frac{x_1 + x_2 + \\dots + x_n}{n} = \\frac{1}{n}(\\displaystyle\\sum_{i=1}^{n}x_i)$\n",
    "\n",
    "Here is the equation, but larger and by itself:\n",
    "$$\n",
    "\\bar{x}= \\frac{x_1 + x_2 + \\dots + x_n}{n} = \\frac{1}{n}(\\displaystyle\\sum_{i=1}^{n}x_i)\n",
    "$$"
   ]
  },
  {
   "cell_type": "markdown",
   "id": "0f721dff-46f3-4550-9565-6ee877dff890",
   "metadata": {},
   "source": []
  }
 ],
 "metadata": {
  "kernelspec": {
   "display_name": "Python [conda env:jupyterlab_practice]",
   "language": "python",
   "name": "conda-env-jupyterlab_practice-py"
  },
  "language_info": {
   "codemirror_mode": {
    "name": "ipython",
    "version": 3
   },
   "file_extension": ".py",
   "mimetype": "text/x-python",
   "name": "python",
   "nbconvert_exporter": "python",
   "pygments_lexer": "ipython3",
   "version": "3.13.7"
  }
 },
 "nbformat": 4,
 "nbformat_minor": 5
}
